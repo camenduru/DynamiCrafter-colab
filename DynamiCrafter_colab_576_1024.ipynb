{
  "cells": [
    {
      "cell_type": "markdown",
      "metadata": {
        "id": "view-in-github"
      },
      "source": [
        "[![Open In Colab](https://colab.research.google.com/assets/colab-badge.svg)](https://colab.research.google.com/github/camenduru/DynamiCrafter-colab/blob/main/DynamiCrafter_colab_576_1024.ipynb)"
      ]
    },
    {
      "cell_type": "code",
      "execution_count": null,
      "metadata": {
        "id": "VjYy0F2gZIPR"
      },
      "outputs": [],
      "source": [
        "%cd /content\n",
        "!git clone -b dev https://github.com/camenduru/DynamiCrafter-576x1024-hf /content/DynamiCrafter-hf\n",
        "%cd /content/DynamiCrafter-hf\n",
        "\n",
        "# For some reason, firework03 isn't there and that causes problems with the Gradio app\n",
        "# This is a temporary fix\n",
        "!echo \"\" > prompts/1024/firework03.png\n",
        "\n",
        "!pip install torch==2.0.1+cu118 torchvision==0.15.2+cu118 torchaudio==2.0.2+cu118 torchtext==0.15.2 torchdata==0.6.1 --extra-index-url https://download.pytorch.org/whl/cu118\n",
        "!pip install -q xformers==0.0.20 triton==2.0.0 gradio omegaconf einops pytorch_lightning kornia open-clip-torch==2.22.0 timm av decord \n",
        "\n",
        "!apt -y install -qq aria2\n",
        "!aria2c --console-log-level=error -c -x 16 -s 16 -k 1M https://huggingface.co/vdo/DynamiCrafter/resolve/main/model_576_1024.ckpt -d /content/DynamiCrafter-hf/checkpoints/dynamicrafter_256_v1 -o model.ckpt\n",
        "\n",
        "!python app.py"
      ]
    }
  ],
  "metadata": {
    "accelerator": "GPU",
    "colab": {
      "gpuType": "T4",
      "provenance": []
    },
    "kernelspec": {
      "display_name": "Python 3",
      "name": "python3"
    },
    "language_info": {
      "name": "python"
    }
  },
  "nbformat": 4,
  "nbformat_minor": 0
}
